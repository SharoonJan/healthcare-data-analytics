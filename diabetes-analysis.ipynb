{
 "cells": [
  {
   "cell_type": "markdown",
   "id": "1a5234ff",
   "metadata": {},
   "source": [
    "# Diabetes Patient Data Analysis"
   ]
  },
  {
   "cell_type": "code",
   "execution_count": null,
   "id": "e1aaf794",
   "metadata": {},
   "outputs": [],
   "source": [
    "\n",
    "import pandas as pd\n",
    "import numpy as np\n",
    "import matplotlib.pyplot as plt\n",
    "import seaborn as sns\n",
    "\n",
    "# Load dataset\n",
    "data = pd.read_csv(\"diabetes.csv\")\n",
    "print(data.shape)\n",
    "print(data.head())\n",
    "\n",
    "# Clean data\n",
    "cols = [\"Glucose\",\"BloodPressure\",\"SkinThickness\",\"Insulin\",\"BMI\"]\n",
    "data[cols] = data[cols].replace(0, np.nan)\n",
    "data[cols] = data[cols].fillna(data[cols].median())\n",
    "\n",
    "# Visualization\n",
    "plt.figure(figsize=(8,5))\n",
    "sns.histplot(data['Age'], bins=20, kde=True)\n",
    "plt.title('Age Distribution')\n",
    "plt.savefig('age_distribution.png', bbox_inches='tight')\n",
    "plt.show()\n",
    "\n",
    "sns.boxplot(x='Outcome', y='Glucose', data=data)\n",
    "plt.title('Glucose by Diabetes Outcome')\n",
    "plt.savefig('glucose_boxplot.png', bbox_inches='tight')\n",
    "plt.show()\n"
   ]
  }
 ],
 "metadata": {},
 "nbformat": 4,
 "nbformat_minor": 5
}
