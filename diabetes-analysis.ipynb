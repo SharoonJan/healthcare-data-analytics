# --- Project 1: Diabetes Patient Data Analysis ---

# Step 1: Import libraries
import pandas as pd
import numpy as np
import matplotlib.pyplot as plt
import seaborn as sns

# Step 2: Load dataset
data = pd.read_csv("diabetes.csv")
print(data.head())

# Step 3: Basic info
print("Shape:", data.shape)
print(data.info())
print(data.describe())

# Step 4: Clean data
cols = ["Glucose", "BloodPressure", "SkinThickness", "Insulin", "BMI"]
data[cols] = data[cols].replace(0, np.nan)
data[cols] = data[cols].fillna(data[cols].median())

# Step 5: Visualization
sns.histplot(data['Age'], bins=20, kde=True)
plt.title("Age Distribution")
plt.savefig("age_hist.png")
plt.show()

sns.countplot(x="Outcome", data=data)
plt.title("Diabetes Cases (1) vs Non-Cases (0)")
plt.savefig("outcomecountplot.png")
plt.show()

sns.boxplot(x="Outcome", y="Glucose", data=data)
plt.title("Glucose Levels in Diabetic vs Non-Diabetic")
plt.savefig("boxplot.png")
plt.show()
